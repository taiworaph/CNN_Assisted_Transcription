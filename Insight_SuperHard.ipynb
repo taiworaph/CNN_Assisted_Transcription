{
 "cells": [
  {
   "cell_type": "code",
   "execution_count": 1,
   "metadata": {},
   "outputs": [
    {
     "name": "stderr",
     "output_type": "stream",
     "text": [
      "/Users/taiwoalabi/anaconda3/lib/python3.6/site-packages/sklearn/cross_validation.py:41: DeprecationWarning: This module was deprecated in version 0.18 in favor of the model_selection module into which all the refactored classes and functions are moved. Also note that the interface of the new CV iterators are different from that of this module. This module will be removed in 0.20.\n",
      "  \"This module will be removed in 0.20.\", DeprecationWarning)\n",
      "/Users/taiwoalabi/anaconda3/lib/python3.6/site-packages/sklearn/grid_search.py:42: DeprecationWarning: This module was deprecated in version 0.18 in favor of the model_selection module into which all the refactored classes and functions are moved. This module will be removed in 0.20.\n",
      "  DeprecationWarning)\n",
      "/Users/taiwoalabi/anaconda3/lib/python3.6/site-packages/h5py/__init__.py:36: FutureWarning: Conversion of the second argument of issubdtype from `float` to `np.floating` is deprecated. In future, it will be treated as `np.float64 == np.dtype(float).type`.\n",
      "  from ._conv import register_converters as _register_converters\n",
      "Using TensorFlow backend.\n"
     ]
    }
   ],
   "source": [
    "# This tells matplotlib not to try opening a new window for each plot.\n",
    "%matplotlib inline\n",
    "\n",
    "# Import a bunch of libraries.\n",
    "import time\n",
    "import numpy as np\n",
    "import matplotlib.pyplot as plt\n",
    "from matplotlib.ticker import MultipleLocator\n",
    "from sklearn.pipeline import Pipeline\n",
    "from sklearn.datasets import fetch_mldata\n",
    "from sklearn.neighbors import KNeighborsClassifier\n",
    "from sklearn.metrics import confusion_matrix\n",
    "from sklearn.linear_model import LinearRegression\n",
    "from sklearn.naive_bayes import BernoulliNB\n",
    "from sklearn.naive_bayes import MultinomialNB\n",
    "from sklearn.naive_bayes import GaussianNB\n",
    "from sklearn.grid_search import GridSearchCV\n",
    "from sklearn.metrics import classification_report\n",
    "import h5py\n",
    "\n",
    "from keras.utils import np_utils\n",
    "from keras import backend as K\n",
    "from sklearn.cross_validation import train_test_split\n",
    "\n",
    "\n",
    "# Set the randomizer seed so results are the same each time.\n",
    "np.random.seed(0)"
   ]
  },
  {
   "cell_type": "markdown",
   "metadata": {},
   "source": [
    "## Training a Cyrillic Russian Alphabeth recognition Algorithm"
   ]
  },
  {
   "cell_type": "code",
   "execution_count": 2,
   "metadata": {},
   "outputs": [],
   "source": [
    "Russian_1 = h5py.File('/Volumes/TAIWO/classification-of-handwritten-letters/LetterColorImages_123.h5', 'r')\n",
    "Russian_2 = h5py.File('/Volumes/TAIWO/classification-of-handwritten-letters/LetterColorImages2.h5', 'r')\n",
    "Russian_3 = h5py.File('/Volumes/TAIWO/classification-of-handwritten-letters/LetterColorImages3.h5', 'r')"
   ]
  },
  {
   "cell_type": "code",
   "execution_count": 3,
   "metadata": {},
   "outputs": [],
   "source": [
    "dataset = Russian_1[\"images\"]\n",
    "dataset2 = Russian_2[\"images\"]\n",
    "dataset3 = Russian_3[\"images\"]"
   ]
  },
  {
   "cell_type": "code",
   "execution_count": 4,
   "metadata": {},
   "outputs": [],
   "source": [
    "dataset_labels = Russian_1[\"labels\"]\n",
    "dataset_labels2 = Russian_2[\"labels\"]\n",
    "dataset_labels3 = Russian_3[\"labels\"]"
   ]
  },
  {
   "cell_type": "code",
   "execution_count": 5,
   "metadata": {},
   "outputs": [],
   "source": [
    "ImageAll = []\n",
    "LabelAll = []\n",
    "for ii in range(dataset.shape[0]):\n",
    "    ImageAll.append(dataset[ii])\n",
    "    LabelAll.append(dataset_labels[ii])"
   ]
  },
  {
   "cell_type": "code",
   "execution_count": 6,
   "metadata": {},
   "outputs": [],
   "source": [
    "for ii in range(dataset2.shape[0]):\n",
    "    ImageAll.append(dataset2[ii])\n",
    "    LabelAll.append(dataset_labels2[ii])"
   ]
  },
  {
   "cell_type": "code",
   "execution_count": 7,
   "metadata": {},
   "outputs": [],
   "source": [
    "for ii in range(dataset3.shape[0]):\n",
    "    ImageAll.append(dataset3[ii])\n",
    "    LabelAll.append(dataset_labels3[ii])"
   ]
  },
  {
   "cell_type": "code",
   "execution_count": 8,
   "metadata": {},
   "outputs": [],
   "source": [
    "from PIL import Image"
   ]
  },
  {
   "cell_type": "code",
   "execution_count": 9,
   "metadata": {},
   "outputs": [],
   "source": [
    "import cv2\n",
    "import numpy as np"
   ]
  },
  {
   "cell_type": "code",
   "execution_count": 34,
   "metadata": {},
   "outputs": [
    {
     "data": {
      "text/plain": [
       "numpy.ndarray"
      ]
     },
     "execution_count": 34,
     "metadata": {},
     "output_type": "execute_result"
    }
   ],
   "source": [
    "type(ImageAll[200])"
   ]
  },
  {
   "cell_type": "code",
   "execution_count": 10,
   "metadata": {},
   "outputs": [
    {
     "data": {
      "text/plain": [
       "True"
      ]
     },
     "execution_count": 10,
     "metadata": {},
     "output_type": "execute_result"
    }
   ],
   "source": [
    "cv2.imwrite(\"~/Desktop/Machine_Learning_Projects/TaiwoTest2.jpeg\", ImageAll[2000])"
   ]
  },
  {
   "cell_type": "code",
   "execution_count": 32,
   "metadata": {},
   "outputs": [
    {
     "ename": "TypeError",
     "evalue": "Cannot handle this data type",
     "output_type": "error",
     "traceback": [
      "\u001b[0;31m---------------------------------------------------------------------------\u001b[0m",
      "\u001b[0;31mKeyError\u001b[0m                                  Traceback (most recent call last)",
      "\u001b[0;32m~/anaconda3/lib/python3.6/site-packages/PIL/Image.py\u001b[0m in \u001b[0;36mfromarray\u001b[0;34m(obj, mode)\u001b[0m\n\u001b[1;32m   2422\u001b[0m             \u001b[0mtypekey\u001b[0m \u001b[0;34m=\u001b[0m \u001b[0;34m(\u001b[0m\u001b[0;36m1\u001b[0m\u001b[0;34m,\u001b[0m \u001b[0;36m1\u001b[0m\u001b[0;34m)\u001b[0m \u001b[0;34m+\u001b[0m \u001b[0mshape\u001b[0m\u001b[0;34m[\u001b[0m\u001b[0;36m2\u001b[0m\u001b[0;34m:\u001b[0m\u001b[0;34m]\u001b[0m\u001b[0;34m,\u001b[0m \u001b[0marr\u001b[0m\u001b[0;34m[\u001b[0m\u001b[0;34m'typestr'\u001b[0m\u001b[0;34m]\u001b[0m\u001b[0;34m\u001b[0m\u001b[0m\n\u001b[0;32m-> 2423\u001b[0;31m             \u001b[0mmode\u001b[0m\u001b[0;34m,\u001b[0m \u001b[0mrawmode\u001b[0m \u001b[0;34m=\u001b[0m \u001b[0m_fromarray_typemap\u001b[0m\u001b[0;34m[\u001b[0m\u001b[0mtypekey\u001b[0m\u001b[0;34m]\u001b[0m\u001b[0;34m\u001b[0m\u001b[0m\n\u001b[0m\u001b[1;32m   2424\u001b[0m         \u001b[0;32mexcept\u001b[0m \u001b[0mKeyError\u001b[0m\u001b[0;34m:\u001b[0m\u001b[0;34m\u001b[0m\u001b[0m\n",
      "\u001b[0;31mKeyError\u001b[0m: ((1, 1, 3), '<f4')",
      "\nDuring handling of the above exception, another exception occurred:\n",
      "\u001b[0;31mTypeError\u001b[0m                                 Traceback (most recent call last)",
      "\u001b[0;32m<ipython-input-32-1edfb3cd37ba>\u001b[0m in \u001b[0;36m<module>\u001b[0;34m()\u001b[0m\n\u001b[0;32m----> 1\u001b[0;31m \u001b[0mim\u001b[0m \u001b[0;34m=\u001b[0m \u001b[0mImage\u001b[0m\u001b[0;34m.\u001b[0m\u001b[0mfromarray\u001b[0m\u001b[0;34m(\u001b[0m\u001b[0mImageAll\u001b[0m\u001b[0;34m[\u001b[0m\u001b[0;36m200\u001b[0m\u001b[0;34m]\u001b[0m\u001b[0;34m)\u001b[0m\u001b[0;34m\u001b[0m\u001b[0m\n\u001b[0m\u001b[1;32m      2\u001b[0m \u001b[0mim\u001b[0m\u001b[0;34m.\u001b[0m\u001b[0msave\u001b[0m\u001b[0;34m(\u001b[0m\u001b[0;34m\"~/Desktop/Machine_Learning_Projects/TaiwoTest.jpeg\"\u001b[0m\u001b[0;34m)\u001b[0m\u001b[0;34m\u001b[0m\u001b[0m\n",
      "\u001b[0;32m~/anaconda3/lib/python3.6/site-packages/PIL/Image.py\u001b[0m in \u001b[0;36mfromarray\u001b[0;34m(obj, mode)\u001b[0m\n\u001b[1;32m   2424\u001b[0m         \u001b[0;32mexcept\u001b[0m \u001b[0mKeyError\u001b[0m\u001b[0;34m:\u001b[0m\u001b[0;34m\u001b[0m\u001b[0m\n\u001b[1;32m   2425\u001b[0m             \u001b[0;31m# print(typekey)\u001b[0m\u001b[0;34m\u001b[0m\u001b[0;34m\u001b[0m\u001b[0m\n\u001b[0;32m-> 2426\u001b[0;31m             \u001b[0;32mraise\u001b[0m \u001b[0mTypeError\u001b[0m\u001b[0;34m(\u001b[0m\u001b[0;34m\"Cannot handle this data type\"\u001b[0m\u001b[0;34m)\u001b[0m\u001b[0;34m\u001b[0m\u001b[0m\n\u001b[0m\u001b[1;32m   2427\u001b[0m     \u001b[0;32melse\u001b[0m\u001b[0;34m:\u001b[0m\u001b[0;34m\u001b[0m\u001b[0m\n\u001b[1;32m   2428\u001b[0m         \u001b[0mrawmode\u001b[0m \u001b[0;34m=\u001b[0m \u001b[0mmode\u001b[0m\u001b[0;34m\u001b[0m\u001b[0m\n",
      "\u001b[0;31mTypeError\u001b[0m: Cannot handle this data type"
     ]
    }
   ],
   "source": [
    "im = Image.fromarray(ImageAll[200])\n"
   ]
  },
  {
   "cell_type": "code",
   "execution_count": null,
   "metadata": {},
   "outputs": [],
   "source": [
    "im.save(\"~/Desktop/Machine_Learning_Projects/TaiwoTest.jpeg\")"
   ]
  },
  {
   "cell_type": "code",
   "execution_count": null,
   "metadata": {},
   "outputs": [],
   "source": [
    "img.show()\n"
   ]
  },
  {
   "cell_type": "code",
   "execution_count": 102,
   "metadata": {},
   "outputs": [
    {
     "data": {
      "text/plain": [
       "array([[[196., 186., 203.],\n",
       "        [196., 188., 203.],\n",
       "        [194., 187., 202.],\n",
       "        ...,\n",
       "        [191., 182., 198.],\n",
       "        [193., 185., 200.],\n",
       "        [193., 186., 201.]],\n",
       "\n",
       "       [[192., 184., 201.],\n",
       "        [193., 186., 203.],\n",
       "        [192., 188., 204.],\n",
       "        ...,\n",
       "        [187., 181., 198.],\n",
       "        [187., 183., 199.],\n",
       "        [189., 185., 201.]],\n",
       "\n",
       "       [[178., 172., 189.],\n",
       "        [175., 170., 187.],\n",
       "        [176., 172., 188.],\n",
       "        ...,\n",
       "        [178., 175., 191.],\n",
       "        [179., 175., 191.],\n",
       "        [180., 176., 192.]],\n",
       "\n",
       "       ...,\n",
       "\n",
       "       [[196., 186., 199.],\n",
       "        [197., 187., 200.],\n",
       "        [192., 183., 196.],\n",
       "        ...,\n",
       "        [182., 176., 191.],\n",
       "        [181., 175., 190.],\n",
       "        [177., 171., 187.]],\n",
       "\n",
       "       [[197., 186., 198.],\n",
       "        [196., 185., 197.],\n",
       "        [196., 185., 197.],\n",
       "        ...,\n",
       "        [185., 176., 191.],\n",
       "        [185., 176., 191.],\n",
       "        [184., 175., 190.]],\n",
       "\n",
       "       [[196., 185., 197.],\n",
       "        [196., 186., 198.],\n",
       "        [197., 186., 198.],\n",
       "        ...,\n",
       "        [184., 175., 190.],\n",
       "        [185., 176., 191.],\n",
       "        [185., 176., 191.]]], dtype=float32)"
      ]
     },
     "execution_count": 102,
     "metadata": {},
     "output_type": "execute_result"
    }
   ],
   "source": [
    "ImageAll[0]"
   ]
  },
  {
   "cell_type": "code",
   "execution_count": 16,
   "metadata": {},
   "outputs": [],
   "source": [
    "import os\n",
    "import cv2\n",
    "path = \"/Volumes/TAIWO/classification-of-handwritten-letters/Background_Empty\""
   ]
  },
  {
   "cell_type": "code",
   "execution_count": 105,
   "metadata": {},
   "outputs": [],
   "source": [
    "os.chdir(path)\n",
    "YY = [doc for doc in os.listdir() if doc.endswith((\"png\")) if not doc.startswith('.')]"
   ]
  },
  {
   "cell_type": "code",
   "execution_count": 106,
   "metadata": {},
   "outputs": [
    {
     "data": {
      "text/plain": [
       "['33.png',\n",
       " '22.png',\n",
       " '44.png',\n",
       " '55.png',\n",
       " '11.png',\n",
       " '88.png',\n",
       " '77.png',\n",
       " '99.png',\n",
       " '100.png',\n",
       " '66.png',\n",
       " '113.png',\n",
       " '112.png',\n",
       " '114.png',\n",
       " '115.png',\n",
       " '111.png',\n",
       " '130.png',\n",
       " '120.png',\n",
       " '150.png',\n",
       " '160.png',\n",
       " '117.png',\n",
       " '200.png',\n",
       " '190.png',\n",
       " '220.png',\n",
       " '300.png',\n",
       " '180.png',\n",
       " '1000.png',\n",
       " '800.png',\n",
       " '500.png',\n",
       " '22_copy.png',\n",
       " '33_copy.png',\n",
       " '44_copy.png',\n",
       " '55_copy.png',\n",
       " '66_copy.png',\n",
       " '77_copy.png',\n",
       " '88_copy.png',\n",
       " '99_copy.png',\n",
       " '100_copy.png',\n",
       " '111_copy.png',\n",
       " '112_copy.png',\n",
       " '113_copy.png',\n",
       " '114_copy.png',\n",
       " '115_copy.png',\n",
       " '117_copy.png',\n",
       " '120_copy.png',\n",
       " '130_copy.png',\n",
       " '150_copy.png',\n",
       " '160_copy.png',\n",
       " '180_copy.png',\n",
       " '190_copy.png',\n",
       " '200_copy.png',\n",
       " '220_copy.png',\n",
       " '300_copy.png',\n",
       " '500_copy.png',\n",
       " '800_copy.png',\n",
       " '1000_copy.png',\n",
       " '11_copy.png']"
      ]
     },
     "execution_count": 106,
     "metadata": {},
     "output_type": "execute_result"
    }
   ],
   "source": [
    "YY"
   ]
  },
  {
   "cell_type": "code",
   "execution_count": 108,
   "metadata": {},
   "outputs": [],
   "source": [
    "full_size_image2 = cv2.imread(\"/Volumes/TAIWO/classification-of-handwritten-letters/Background_Empty/33.png\")"
   ]
  },
  {
   "cell_type": "code",
   "execution_count": 109,
   "metadata": {},
   "outputs": [
    {
     "data": {
      "text/plain": [
       "array([[[243, 232, 234],\n",
       "        [243, 232, 234],\n",
       "        [243, 232, 234],\n",
       "        ...,\n",
       "        [246, 235, 237],\n",
       "        [246, 235, 237],\n",
       "        [246, 235, 237]],\n",
       "\n",
       "       [[243, 232, 234],\n",
       "        [243, 232, 234],\n",
       "        [243, 232, 234],\n",
       "        ...,\n",
       "        [246, 235, 237],\n",
       "        [246, 235, 237],\n",
       "        [246, 235, 237]],\n",
       "\n",
       "       [[243, 232, 234],\n",
       "        [243, 232, 234],\n",
       "        [243, 232, 234],\n",
       "        ...,\n",
       "        [246, 235, 237],\n",
       "        [246, 235, 237],\n",
       "        [246, 235, 237]],\n",
       "\n",
       "       ...,\n",
       "\n",
       "       [[243, 232, 234],\n",
       "        [243, 232, 234],\n",
       "        [243, 232, 234],\n",
       "        ...,\n",
       "        [243, 233, 234],\n",
       "        [242, 234, 235],\n",
       "        [243, 233, 235]],\n",
       "\n",
       "       [[242, 231, 233],\n",
       "        [242, 231, 233],\n",
       "        [242, 231, 233],\n",
       "        ...,\n",
       "        [243, 233, 235],\n",
       "        [242, 234, 235],\n",
       "        [243, 233, 235]],\n",
       "\n",
       "       [[242, 231, 233],\n",
       "        [242, 231, 233],\n",
       "        [242, 231, 233],\n",
       "        ...,\n",
       "        [243, 233, 235],\n",
       "        [242, 234, 235],\n",
       "        [243, 233, 235]]], dtype=uint8)"
      ]
     },
     "execution_count": 109,
     "metadata": {},
     "output_type": "execute_result"
    }
   ],
   "source": [
    "full_size_image2"
   ]
  },
  {
   "cell_type": "code",
   "execution_count": 110,
   "metadata": {},
   "outputs": [],
   "source": [
    "ZZ = cv2.resize(full_size_image2, (32,32), interpolation=cv2.INTER_CUBIC)/255"
   ]
  },
  {
   "cell_type": "code",
   "execution_count": 111,
   "metadata": {
    "scrolled": true
   },
   "outputs": [
    {
     "data": {
      "text/plain": [
       "array([[[0.95686275, 0.91372549, 0.92156863],\n",
       "        [0.95294118, 0.90980392, 0.91764706],\n",
       "        [0.95686275, 0.91372549, 0.92156863],\n",
       "        ...,\n",
       "        [0.96470588, 0.92156863, 0.92941176],\n",
       "        [0.96470588, 0.92156863, 0.92941176],\n",
       "        [0.96470588, 0.92156863, 0.92941176]],\n",
       "\n",
       "       [[0.95686275, 0.91372549, 0.92156863],\n",
       "        [0.95686275, 0.91372549, 0.92156863],\n",
       "        [0.95294118, 0.90980392, 0.91764706],\n",
       "        ...,\n",
       "        [0.96470588, 0.92156863, 0.92941176],\n",
       "        [0.96470588, 0.92156863, 0.92941176],\n",
       "        [0.96470588, 0.92156863, 0.92941176]],\n",
       "\n",
       "       [[0.95294118, 0.90980392, 0.91764706],\n",
       "        [0.95686275, 0.91372549, 0.92156863],\n",
       "        [0.95686275, 0.91372549, 0.92156863],\n",
       "        ...,\n",
       "        [0.96470588, 0.92156863, 0.92941176],\n",
       "        [0.96470588, 0.92156863, 0.92941176],\n",
       "        [0.96470588, 0.92156863, 0.92941176]],\n",
       "\n",
       "       ...,\n",
       "\n",
       "       [[0.95294118, 0.90980392, 0.91764706],\n",
       "        [0.95294118, 0.90980392, 0.91764706],\n",
       "        [0.95294118, 0.90980392, 0.91764706],\n",
       "        ...,\n",
       "        [0.95686275, 0.91372549, 0.92156863],\n",
       "        [0.95686275, 0.91372549, 0.92156863],\n",
       "        [0.95686275, 0.91372549, 0.92156863]],\n",
       "\n",
       "       [[0.95294118, 0.90980392, 0.91764706],\n",
       "        [0.95294118, 0.90980392, 0.91764706],\n",
       "        [0.94901961, 0.90588235, 0.91372549],\n",
       "        ...,\n",
       "        [0.95686275, 0.91372549, 0.92156863],\n",
       "        [0.95686275, 0.91372549, 0.92156863],\n",
       "        [0.95686275, 0.91372549, 0.92156863]],\n",
       "\n",
       "       [[0.94901961, 0.90588235, 0.91372549],\n",
       "        [0.94901961, 0.90588235, 0.91372549],\n",
       "        [0.95294118, 0.90980392, 0.91764706],\n",
       "        ...,\n",
       "        [0.95686275, 0.91372549, 0.92156863],\n",
       "        [0.95294118, 0.90980392, 0.91764706],\n",
       "        [0.95686275, 0.91372549, 0.92156863]]])"
      ]
     },
     "execution_count": 111,
     "metadata": {},
     "output_type": "execute_result"
    }
   ],
   "source": [
    "ZZ"
   ]
  },
  {
   "cell_type": "code",
   "execution_count": 112,
   "metadata": {},
   "outputs": [
    {
     "data": {
      "text/plain": [
       "<matplotlib.image.AxesImage at 0x121a46cc0>"
      ]
     },
     "execution_count": 112,
     "metadata": {},
     "output_type": "execute_result"
    },
    {
     "data": {
      "image/png": "[encoded data removed]",
      "text/plain": [
       "<matplotlib.figure.Figure at 0x12184d7f0>"
      ]
     },
     "metadata": {},
     "output_type": "display_data"
    }
   ],
   "source": [
    "plt.figure()\n",
    "plt.imshow(ZZ, interpolation='nearest', cmap='binary')"
   ]
  },
  {
   "cell_type": "code",
   "execution_count": 96,
   "metadata": {},
   "outputs": [
    {
     "data": {
      "text/plain": [
       "<matplotlib.image.AxesImage at 0x12176aeb8>"
      ]
     },
     "execution_count": 96,
     "metadata": {},
     "output_type": "execute_result"
    },
    {
     "data": {
      "image/png": "[encoded data removed]",
      "text/plain": [
       "<matplotlib.figure.Figure at 0x121716cc0>"
      ]
     },
     "metadata": {},
     "output_type": "display_data"
    }
   ],
   "source": [
    "plt.figure()\n",
    "plt.imshow(full_size_image2, interpolation='nearest', cmap='binary')"
   ]
  },
  {
   "cell_type": "code",
   "execution_count": 118,
   "metadata": {},
   "outputs": [
    {
     "data": {
      "text/plain": [
       "list"
      ]
     },
     "execution_count": 118,
     "metadata": {},
     "output_type": "execute_result"
    }
   ],
   "source": [
    "type(ImageAll)"
   ]
  },
  {
   "cell_type": "code",
   "execution_count": 115,
   "metadata": {
    "scrolled": false
   },
   "outputs": [],
   "source": [
    "Label1 = []\n",
    "Label2 = []\n",
    "for ii in YY:\n",
    "    Label1.append(34)\n",
    "    full_size_image = cv2.imread(path + \"/\" + ii)\n",
    "    ZZ = cv2.resize(full_size_image, (32,32), interpolation=cv2.INTER_CUBIC)\n",
    "    Label2.append(ZZ)"
   ]
  },
  {
   "cell_type": "code",
   "execution_count": 119,
   "metadata": {},
   "outputs": [],
   "source": [
    "ImageAll.extend(Label2)"
   ]
  },
  {
   "cell_type": "code",
   "execution_count": 120,
   "metadata": {},
   "outputs": [],
   "source": [
    "LabelAll.extend(Label1)"
   ]
  },
  {
   "cell_type": "code",
   "execution_count": 121,
   "metadata": {},
   "outputs": [
    {
     "name": "stdout",
     "output_type": "stream",
     "text": [
      "Transformation is done\n",
      "The shape of Xtrain[0] is:  (32, 32, 3)\n",
      "The shape of ytrain[0] is:  (35,)\n"
     ]
    }
   ],
   "source": [
    "X4L = np.array(ImageAll)\n",
    "X4L = X4L.astype('float32')\n",
    "X7L = X4L/255\n",
    "\n",
    "# Transforming the feature labels\n",
    "#X5L = []\n",
    "#for ii in range(len(X1L)):\n",
    "#    if X1L[ii] == 'Cancer':\n",
    "#        X5L.append(1)\n",
    "#    elif X1L[ii] == 'No_Cancer':\n",
    "#        X5L.append(0)\n",
    "X5L = LabelAll\n",
    "X6L = np.array(X5L)\n",
    "y = np_utils.to_categorical(X6L)\n",
    "\n",
    "num_classes = y.shape[1]\n",
    "\n",
    "\n",
    "print(\"Transformation is done\")\n",
    "\n",
    "# Randomization and splitting of the dataset into a training dataset and a testing dataset\n",
    "Xtrain, Xtest, ytrain, ytest = train_test_split( X7L,y, test_size = 0.2, random_state =0)\n",
    "\n",
    "print(\"The shape of Xtrain[0] is: \", Xtrain[0].shape)\n",
    "print(\"The shape of ytrain[0] is: \", ytrain[0].shape)"
   ]
  },
  {
   "cell_type": "code",
   "execution_count": 122,
   "metadata": {},
   "outputs": [
    {
     "data": {
      "text/plain": [
       "(21428, 32, 32, 3)"
      ]
     },
     "execution_count": 122,
     "metadata": {},
     "output_type": "execute_result"
    }
   ],
   "source": [
    "Xtrain.shape"
   ]
  },
  {
   "cell_type": "code",
   "execution_count": 123,
   "metadata": {},
   "outputs": [
    {
     "data": {
      "text/plain": [
       "(5358, 32, 32, 3)"
      ]
     },
     "execution_count": 123,
     "metadata": {},
     "output_type": "execute_result"
    }
   ],
   "source": [
    "Xtest.shape"
   ]
  },
  {
   "cell_type": "code",
   "execution_count": 17,
   "metadata": {},
   "outputs": [
    {
     "name": "stdout",
     "output_type": "stream",
     "text": [
      "Done Uploading all Packages\n"
     ]
    }
   ],
   "source": [
    "import numpy as np\n",
    "import matplotlib.pyplot as plt\n",
    "from matplotlib.ticker import MultipleLocator\n",
    "import pandas as pd\n",
    "import os\n",
    "import time\n",
    "from PIL import Image\n",
    "import sys\n",
    "import tensorflow as tf\n",
    "import cv2\n",
    "from keras.models import Sequential\n",
    "from keras.layers import Dense\n",
    "from keras.layers import Dropout\n",
    "from keras.layers import Flatten\n",
    "from keras.constraints import maxnorm\n",
    "from keras.optimizers import SGD\n",
    "from keras.layers.convolutional import Conv2D\n",
    "from keras.layers.convolutional import Conv1D\n",
    "from keras.layers.convolutional import MaxPooling2D\n",
    "from keras.layers.convolutional import MaxPooling1D\n",
    "print(\"Done Uploading all Packages\")"
   ]
  },
  {
   "cell_type": "code",
   "execution_count": 18,
   "metadata": {},
   "outputs": [
    {
     "name": "stdout",
     "output_type": "stream",
     "text": [
      "_________________________________________________________________\n",
      "Layer (type)                 Output Shape              Param #   \n",
      "=================================================================\n",
      "conv2d_1 (Conv2D)            (None, 32, 32, 128)       3584      \n",
      "_________________________________________________________________\n",
      "dropout_1 (Dropout)          (None, 32, 32, 128)       0         \n",
      "_________________________________________________________________\n",
      "conv2d_2 (Conv2D)            (None, 32, 32, 128)       147584    \n",
      "_________________________________________________________________\n",
      "max_pooling2d_1 (MaxPooling2 (None, 16, 16, 128)       0         \n",
      "_________________________________________________________________\n",
      "conv2d_3 (Conv2D)            (None, 16, 16, 64)        73792     \n",
      "_________________________________________________________________\n",
      "dropout_2 (Dropout)          (None, 16, 16, 64)        0         \n",
      "_________________________________________________________________\n",
      "conv2d_4 (Conv2D)            (None, 16, 16, 128)       73856     \n",
      "_________________________________________________________________\n",
      "max_pooling2d_2 (MaxPooling2 (None, 8, 8, 128)         0         \n",
      "_________________________________________________________________\n",
      "flatten_1 (Flatten)          (None, 8192)              0         \n",
      "_________________________________________________________________\n",
      "dropout_3 (Dropout)          (None, 8192)              0         \n",
      "_________________________________________________________________\n",
      "dense_1 (Dense)              (None, 1024)              8389632   \n",
      "_________________________________________________________________\n",
      "dropout_4 (Dropout)          (None, 1024)              0         \n",
      "_________________________________________________________________\n",
      "dense_2 (Dense)              (None, 512)               524800    \n",
      "_________________________________________________________________\n",
      "dropout_5 (Dropout)          (None, 512)               0         \n",
      "_________________________________________________________________\n",
      "dense_3 (Dense)              (None, 35)                17955     \n",
      "=================================================================\n",
      "Total params: 9,231,203\n",
      "Trainable params: 9,231,203\n",
      "Non-trainable params: 0\n",
      "_________________________________________________________________\n",
      "None\n"
     ]
    }
   ],
   "source": [
    "#5 Convolution\n",
    "#2 Deep ANN\n",
    "#Batch size of 32\n",
    "#Input image shape 300x300x3\n",
    "#Loss function - Binary cross-entropy\n",
    "\n",
    "\n",
    "model = Sequential()\n",
    "model.add(Conv2D(128, (3, 3), input_shape=(32, 32, 3), padding='same', activation='relu', kernel_constraint=maxnorm(3)))\n",
    "model.add(Dropout(0.2))\n",
    "model.add(Conv2D(128, (3, 3), activation='relu', padding='same'))\n",
    "model.add(MaxPooling2D(pool_size=(2, 2)))\n",
    "model.add(Conv2D(64, (3, 3), activation='relu', padding='same'))\n",
    "model.add(Dropout(0.2))\n",
    "#model.add(Conv2D(128, (3, 3), activation='relu', padding='same'))\n",
    "#model.add(Dropout(0.2))\n",
    "model.add(Conv2D(128, (3, 3), activation='relu', padding='same'))\n",
    "model.add(MaxPooling2D(pool_size=(2, 2)))\n",
    "model.add(Flatten())\n",
    "model.add(Dropout(0.2))\n",
    "model.add(Dense(1024, activation='relu', kernel_constraint=maxnorm(3)))\n",
    "model.add(Dropout(0.2))\n",
    "model.add(Dense(512, activation='relu', kernel_constraint=maxnorm(3)))\n",
    "model.add(Dropout(0.2))\n",
    "model.add(Dense(35, activation='sigmoid'))\n",
    "# Compilation of Model \n",
    "epochs = 20\n",
    "lrate = 0.005\n",
    "decay = lrate/epochs\n",
    "sgd = SGD(lr=lrate, momentum=0.9, decay=decay, nesterov=False)\n",
    "model.compile(loss='categorical_crossentropy', optimizer=sgd, metrics=['accuracy'])\n",
    "print(model.summary())"
   ]
  },
  {
   "cell_type": "code",
   "execution_count": 127,
   "metadata": {},
   "outputs": [
    {
     "name": "stdout",
     "output_type": "stream",
     "text": [
      "WARNING:tensorflow:Variable *= will be deprecated. Use variable.assign_mul if you want assignment to the variable value or 'x = x * y' if you want a new python Tensor object.\n",
      "Train on 21428 samples, validate on 5358 samples\n",
      "Epoch 1/20\n",
      "21428/21428 [==============================] - 772s 36ms/step - loss: 3.5094 - acc: 0.0327 - val_loss: 3.4548 - val_acc: 0.0426\n",
      "Epoch 2/20\n",
      "21428/21428 [==============================] - 813s 38ms/step - loss: 3.4151 - acc: 0.0547 - val_loss: 3.3639 - val_acc: 0.0618\n",
      "Epoch 3/20\n",
      "21428/21428 [==============================] - 771s 36ms/step - loss: 3.2793 - acc: 0.0770 - val_loss: 3.2688 - val_acc: 0.0797\n",
      "Epoch 4/20\n",
      "21428/21428 [==============================] - 787s 37ms/step - loss: 2.8565 - acc: 0.1705 - val_loss: 2.2968 - val_acc: 0.3108\n",
      "Epoch 5/20\n",
      "21428/21428 [==============================] - 754s 35ms/step - loss: 1.9249 - acc: 0.4237 - val_loss: 1.4285 - val_acc: 0.5870\n",
      "Epoch 6/20\n",
      "21428/21428 [==============================] - 753s 35ms/step - loss: 1.3192 - acc: 0.6034 - val_loss: 1.0080 - val_acc: 0.6868\n",
      "Epoch 7/20\n",
      "21428/21428 [==============================] - 741s 35ms/step - loss: 0.9198 - acc: 0.7177 - val_loss: 0.5832 - val_acc: 0.8255\n",
      "Epoch 8/20\n",
      "21428/21428 [==============================] - 741s 35ms/step - loss: 0.6330 - acc: 0.8038 - val_loss: 0.4418 - val_acc: 0.8682\n",
      "Epoch 9/20\n",
      "21428/21428 [==============================] - 741s 35ms/step - loss: 0.4670 - acc: 0.8528 - val_loss: 0.3556 - val_acc: 0.8992\n",
      "Epoch 10/20\n",
      "21428/21428 [==============================] - 737s 34ms/step - loss: 0.3498 - acc: 0.8906 - val_loss: 0.2765 - val_acc: 0.9211\n",
      "Epoch 11/20\n",
      "21428/21428 [==============================] - 738s 34ms/step - loss: 0.2827 - acc: 0.9096 - val_loss: 0.2247 - val_acc: 0.9369\n",
      "Epoch 12/20\n",
      "21428/21428 [==============================] - 728s 34ms/step - loss: 0.2266 - acc: 0.9271 - val_loss: 0.2054 - val_acc: 0.9431\n",
      "Epoch 13/20\n",
      "21428/21428 [==============================] - 713s 33ms/step - loss: 0.1928 - acc: 0.9379 - val_loss: 0.1843 - val_acc: 0.9472\n",
      "Epoch 14/20\n",
      "21428/21428 [==============================] - 720s 34ms/step - loss: 0.1607 - acc: 0.9481 - val_loss: 0.1775 - val_acc: 0.9532\n",
      "Epoch 15/20\n",
      "21428/21428 [==============================] - 754s 35ms/step - loss: 0.1315 - acc: 0.9571 - val_loss: 0.1485 - val_acc: 0.9584\n",
      "Epoch 16/20\n",
      "21428/21428 [==============================] - 749s 35ms/step - loss: 0.1164 - acc: 0.9628 - val_loss: 0.1604 - val_acc: 0.9556\n",
      "Epoch 17/20\n",
      "21428/21428 [==============================] - 807s 38ms/step - loss: 0.1015 - acc: 0.9657 - val_loss: 0.1488 - val_acc: 0.9601\n",
      "Epoch 18/20\n",
      "21428/21428 [==============================] - 754s 35ms/step - loss: 0.0912 - acc: 0.9699 - val_loss: 0.1445 - val_acc: 0.9630\n",
      "Epoch 19/20\n",
      "21428/21428 [==============================] - 786s 37ms/step - loss: 0.0771 - acc: 0.9748 - val_loss: 0.1379 - val_acc: 0.9653\n",
      "Epoch 20/20\n",
      "21428/21428 [==============================] - 751s 35ms/step - loss: 0.0697 - acc: 0.9775 - val_loss: 0.1421 - val_acc: 0.9653\n",
      "Accuracy: 96.53%\n"
     ]
    }
   ],
   "source": [
    "history3 = model.fit(Xtrain, ytrain, validation_data=(Xtest, ytest), epochs=epochs, batch_size=4)\n",
    "# Evaluation of Model -- Maybe Needs a graphical analysis also\n",
    "scores = model.evaluate(Xtest, ytest, verbose=0)\n",
    "print(\"Accuracy: %.2f%%\" % (scores[1]*100))"
   ]
  },
  {
   "cell_type": "code",
   "execution_count": 129,
   "metadata": {},
   "outputs": [
    {
     "data": {
      "text/plain": [
       "<matplotlib.legend.Legend at 0x12021f240>"
      ]
     },
     "execution_count": 129,
     "metadata": {},
     "output_type": "execute_result"
    },
    {
     "data": {
      "image/png": "[encoded data removed]",
      "text/plain": [
       "<matplotlib.figure.Figure at 0x12026f128>"
      ]
     },
     "metadata": {},
     "output_type": "display_data"
    }
   ],
   "source": [
    "plt.subplot(212)\n",
    "plt.title(\"Entropy Loss\")\n",
    "plt.plot(history3.history[\"loss\"], color=\"g\", label=\"Train\")\n",
    "plt.plot(history3.history[\"val_loss\"], color=\"b\", label=\"Validation\")\n",
    "plt.legend(loc=\"best\")"
   ]
  },
  {
   "cell_type": "code",
   "execution_count": 130,
   "metadata": {},
   "outputs": [
    {
     "data": {
      "text/plain": [
       "<matplotlib.legend.Legend at 0x1201e09b0>"
      ]
     },
     "execution_count": 130,
     "metadata": {},
     "output_type": "execute_result"
    },
    {
     "data": {
      "image/png": "[encoded data removed]",
      "text/plain": [
       "<matplotlib.figure.Figure at 0x12026f828>"
      ]
     },
     "metadata": {},
     "output_type": "display_data"
    }
   ],
   "source": [
    "plt.subplot(212)\n",
    "plt.title(\"Accuracy\")\n",
    "plt.plot(history3.history[\"acc\"], color=\"g\", label=\"Train\")\n",
    "plt.plot(history3.history[\"val_acc\"], color=\"b\", label=\"Validation\")\n",
    "plt.legend(loc=\"best\")"
   ]
  },
  {
   "cell_type": "code",
   "execution_count": 8,
   "metadata": {},
   "outputs": [
    {
     "name": "stderr",
     "output_type": "stream",
     "text": [
      "/Users/taiwoalabi/anaconda3/lib/python3.6/site-packages/h5py/__init__.py:36: FutureWarning: Conversion of the second argument of issubdtype from `float` to `np.floating` is deprecated. In future, it will be treated as `np.float64 == np.dtype(float).type`.\n",
      "  from ._conv import register_converters as _register_converters\n",
      "Using TensorFlow backend.\n"
     ]
    }
   ],
   "source": [
    "from keras.models import model_from_json"
   ]
  },
  {
   "cell_type": "code",
   "execution_count": 150,
   "metadata": {},
   "outputs": [
    {
     "name": "stdout",
     "output_type": "stream",
     "text": [
      "Saved model to disk\n"
     ]
    }
   ],
   "source": [
    "with open(\"model_Russian2.json\", \"w\") as json_file:\n",
    "    json_file.write(model_json)\n",
    "# serialize weights to HDF5\n",
    "#model.save_weights(\"~/Desktop/Machine_Learning_Projects/model_Russian2.h5\")\n",
    "print(\"Saved model to disk\")"
   ]
  },
  {
   "cell_type": "code",
   "execution_count": 30,
   "metadata": {},
   "outputs": [],
   "source": [
    "\n",
    "y_pred = loaded_model.predict(Xtrain[:2])"
   ]
  },
  {
   "cell_type": "code",
   "execution_count": 33,
   "metadata": {},
   "outputs": [
    {
     "name": "stdout",
     "output_type": "stream",
     "text": [
      "0.9258191\n",
      "0.004285855\n"
     ]
    }
   ],
   "source": [
    "print(max(y_pred[0]))\n",
    "print(max(y_pred[1]))\n",
    "#max(y_pred[2])"
   ]
  },
  {
   "cell_type": "code",
   "execution_count": 34,
   "metadata": {},
   "outputs": [
    {
     "data": {
      "text/plain": [
       "array([2.7564151e-12, 7.2627930e-09, 2.3454649e-19, 1.8114079e-12,\n",
       "       1.0563341e-06, 3.2784726e-08, 2.4119248e-10, 3.2496304e-11,\n",
       "       5.5243311e-18, 1.0025995e-11, 1.2739153e-13, 7.3802286e-14,\n",
       "       5.4950502e-19, 6.2571272e-15, 2.8188952e-14, 5.3180732e-17,\n",
       "       3.8052468e-07, 1.1563576e-15, 7.6459169e-23, 1.3950551e-14,\n",
       "       1.9460043e-17, 4.3560690e-13, 1.2370495e-10, 3.5392616e-11,\n",
       "       8.4685219e-12, 1.8040559e-13, 4.8793968e-12, 5.8593303e-16,\n",
       "       5.8657863e-11, 3.0705319e-19, 5.0985171e-12, 4.2858552e-03,\n",
       "       7.0325155e-11, 2.8373357e-08], dtype=float32)"
      ]
     },
     "execution_count": 34,
     "metadata": {},
     "output_type": "execute_result"
    }
   ],
   "source": [
    "y_pred[1]"
   ]
  },
  {
   "cell_type": "code",
   "execution_count": 1,
   "metadata": {},
   "outputs": [],
   "source": [
    "!mkdir ~/Desktop/FlaskBuilder"
   ]
  },
  {
   "cell_type": "code",
   "execution_count": 2,
   "metadata": {},
   "outputs": [
    {
     "name": "stdout",
     "output_type": "stream",
     "text": [
      "/bin/sh: line 0: cd: /Desktop/FlaskBuilder: No such file or directory\n"
     ]
    }
   ],
   "source": [
    "!cd /Desktop/FlaskBuilder"
   ]
  },
  {
   "cell_type": "code",
   "execution_count": 3,
   "metadata": {},
   "outputs": [],
   "source": [
    "!cd ~/Desktop/FlaskBuilder"
   ]
  },
  {
   "cell_type": "code",
   "execution_count": 4,
   "metadata": {},
   "outputs": [],
   "source": [
    "!mkdir ~/Desktop/FlaskBuilder/Static"
   ]
  },
  {
   "cell_type": "code",
   "execution_count": 35,
   "metadata": {},
   "outputs": [],
   "source": [
    "!mkdir ~/Desktop/FlaskBuilder/Templates"
   ]
  },
  {
   "cell_type": "code",
   "execution_count": 36,
   "metadata": {},
   "outputs": [],
   "source": [
    "!mkdir ~/Desktop/FlaskBuilder/Templates/tmp"
   ]
  },
  {
   "cell_type": "code",
   "execution_count": null,
   "metadata": {},
   "outputs": [],
   "source": []
  },
  {
   "cell_type": "markdown",
   "metadata": {},
   "source": [
    "### Splitting The Images into Sections for Recognition ###"
   ]
  },
  {
   "cell_type": "code",
   "execution_count": 37,
   "metadata": {},
   "outputs": [],
   "source": [
    "from PIL import Image"
   ]
  },
  {
   "cell_type": "code",
   "execution_count": 38,
   "metadata": {},
   "outputs": [],
   "source": [
    "INPUTFILE = \"/Volumes/TAIWO/Writen_Names/\""
   ]
  },
  {
   "cell_type": "code",
   "execution_count": 39,
   "metadata": {},
   "outputs": [],
   "source": [
    "INPUTFILE = \"~/Desktop/11.png\""
   ]
  },
  {
   "cell_type": "code",
   "execution_count": 39,
   "metadata": {},
   "outputs": [],
   "source": [
    "im = Image.open((INPUTFILE+ \"VALENTIN.jpg\"))"
   ]
  },
  {
   "cell_type": "code",
   "execution_count": 40,
   "metadata": {},
   "outputs": [],
   "source": [
    "imgwidth,imgheight = im.size"
   ]
  },
  {
   "cell_type": "code",
   "execution_count": 41,
   "metadata": {},
   "outputs": [
    {
     "name": "stdout",
     "output_type": "stream",
     "text": [
      "388\n"
     ]
    }
   ],
   "source": [
    "print(imgwidth)"
   ]
  },
  {
   "cell_type": "code",
   "execution_count": 42,
   "metadata": {},
   "outputs": [
    {
     "name": "stdout",
     "output_type": "stream",
     "text": [
      "36\n"
     ]
    }
   ],
   "source": [
    "print(imgheight)"
   ]
  },
  {
   "cell_type": "code",
   "execution_count": null,
   "metadata": {},
   "outputs": [],
   "source": [
    "for ii in range(0, imgwidth, 20):\n",
    "    box = (ii,0,ii + 20,imgheight)\n",
    "    a = im.crop(box)"
   ]
  },
  {
   "cell_type": "code",
   "execution_count": 43,
   "metadata": {},
   "outputs": [],
   "source": [
    "box = (0,0,20,36)"
   ]
  },
  {
   "cell_type": "code",
   "execution_count": 44,
   "metadata": {},
   "outputs": [],
   "source": [
    "a = im.crop(box)"
   ]
  },
  {
   "cell_type": "code",
   "execution_count": 50,
   "metadata": {},
   "outputs": [],
   "source": [
    "Tmp_Img = Image.new('L', (32,36),255)"
   ]
  },
  {
   "cell_type": "code",
   "execution_count": 51,
   "metadata": {},
   "outputs": [],
   "source": [
    "Tmp_Img.paste(a)"
   ]
  },
  {
   "cell_type": "code",
   "execution_count": 53,
   "metadata": {},
   "outputs": [],
   "source": [
    "image_path = INPUTFILE + \"Taiwo3.jpg\""
   ]
  },
  {
   "cell_type": "code",
   "execution_count": 54,
   "metadata": {},
   "outputs": [],
   "source": [
    "Tmp_Img.save(image_path)"
   ]
  },
  {
   "cell_type": "markdown",
   "metadata": {},
   "source": [
    "### This line of code is ready for breaking down the text(s) "
   ]
  },
  {
   "cell_type": "code",
   "execution_count": 62,
   "metadata": {},
   "outputs": [],
   "source": [
    "for ii in range(0, imgwidth, 15):\n",
    "    box = (ii,0,ii+15,imgheight)\n",
    "    a = im.crop(box)\n",
    "    Tmp_Img = Image.new('L', (32,36),255)\n",
    "    Tmp_Img.paste(a)\n",
    "    \n",
    "    image_path = INPUTFILE + \"Taiwo\" + str(ii) + \".jpg\"\n",
    "    Tmp_Img.save(image_path)"
   ]
  },
  {
   "cell_type": "code",
   "execution_count": 59,
   "metadata": {},
   "outputs": [],
   "source": []
  },
  {
   "cell_type": "code",
   "execution_count": 64,
   "metadata": {},
   "outputs": [],
   "source": [
    "for ii in range(0, imgwidth, 35):\n",
    "    box = (ii,0,ii+35,imgheight)\n",
    "    a = im.crop(box)\n",
    "    Tmp_Img = Image.new('L', (130,130),255)\n",
    "    Tmp_Img.paste(a)\n",
    "    \n",
    "    image_path = INPUTFILE + \"Taiwo\" + str(ii) + \".png\"\n",
    "    Tmp_Img.save(image_path)\n",
    "    count =0\n",
    "    for iii in range(15):\n",
    "        if ((ii > 15) | ((ii+15) > imgwidth)):\n",
    "            box = ((ii-iii),0,ii,imgheight)\n",
    "            Tmp_Img = Image.new('L', (130,130),255)\n",
    "            Tmp_Img.paste(a)\n",
    "            image_path = INPUTFILE + \"Taiwo\" + str(iii) + str(count) + \".png\"\n",
    "            Tmp_Img.save(image_path)\n",
    "            count+=1\n",
    "            \n",
    "    for ix in range(15):\n",
    "        if ((ii > 15) | ((ii+15) > imgwidth)):\n",
    "            box = (ii,0,ii+ix,imgheight)\n",
    "            Tmp_Img = Image.new('L', (130,130),255)\n",
    "            Tmp_Img.paste(a)\n",
    "            image_path = INPUTFILE + \"Taiwo\" + str(ix) + str(count) + \".png\"\n",
    "            Tmp_Img.save(image_path)\n",
    "            count+=1\n",
    "                   \n",
    "    \n",
    "    for ixx in range(15):\n",
    "        if ((ii > 15) | ((ii+15) > imgwidth)):\n",
    "            box = (ii-ixx,0,ii+ixx,imgheight)\n",
    "            Tmp_Img = Image.new('L', (130,130),255)\n",
    "            Tmp_Img.paste(a)\n",
    "            image_path = INPUTFILE + \"Taiwo\" + str(ixx) + str(count) + \".png\"\n",
    "            Tmp_Img.save(image_path)\n",
    "            count+=1"
   ]
  }
 ],
 "metadata": {
  "kernelspec": {
   "display_name": "Python 3",
   "language": "python",
   "name": "python3"
  },
  "language_info": {
   "codemirror_mode": {
    "name": "ipython",
    "version": 3
   },
   "file_extension": ".py",
   "mimetype": "text/x-python",
   "name": "python",
   "nbconvert_exporter": "python",
   "pygments_lexer": "ipython3",
   "version": "3.6.4"
  }
 },
 "nbformat": 4,
 "nbformat_minor": 2
}
